{
  "nbformat": 4,
  "nbformat_minor": 0,
  "metadata": {
    "colab": {
      "provenance": [],
      "authorship_tag": "ABX9TyOZIXy1ubIxNygaRuaNzfCh",
      "include_colab_link": true
    },
    "kernelspec": {
      "name": "python3",
      "display_name": "Python 3"
    },
    "language_info": {
      "name": "python"
    }
  },
  "cells": [
    {
      "cell_type": "markdown",
      "metadata": {
        "id": "view-in-github",
        "colab_type": "text"
      },
      "source": [
        "<a href=\"https://colab.research.google.com/github/JJ-HY/Colaboratory/blob/main/Python1.ipynb\" target=\"_parent\"><img src=\"https://colab.research.google.com/assets/colab-badge.svg\" alt=\"Open In Colab\"/></a>"
      ]
    },
    {
      "cell_type": "code",
      "source": [
        "print(\"Ctrl + Enter = 해당 셀 실행, 커서도 해당 셀에 그대로 위치(작업 결과만 볼 때\")\n",
        "print(\"Shift + Enter = 해당 셀 실행, 커서를 다음 셀에 넘김(편집셀이 여러개 일때 창 이동하며 실행)\")\n",
        "print(\"Alt + Enter = 해당 셀 실행, shift랑 같은데 새로운 편집 셀을 만들어서 커서를 넘김\")"
      ],
      "metadata": {
        "colab": {
          "base_uri": "https://localhost:8080/"
        },
        "id": "7hANGK4GZaXr",
        "outputId": "3ac573cf-54e2-4c30-eba3-ae6f674f1a38"
      },
      "execution_count": 10,
      "outputs": [
        {
          "output_type": "stream",
          "name": "stdout",
          "text": [
            "Ctrl + Enter = 해당 셀 실행, 커서도 해당 셀에 그대로 위치(작업 결과만 볼 때\n",
            "Shift + Enter = 해당 셀 실행, 커서를 다음 셀에 넘김(편집셀이 여러개 일때 창 이동하며 실행)\n",
            "Alt + Enter = 해당 셀 실행, shift랑 같은데 새로운 편집 셀을 만들어서 커서를 넘김\n"
          ]
        }
      ]
    },
    {
      "cell_type": "code",
      "source": [
        "kor = 100\n",
        "eng = 95\n",
        "mat = 97\n",
        "sum = kor + eng + mat\n",
        "avg = sum/3\n",
        "\n",
        "print(\"국영수 합계는\", sum,\"입니다\")\n",
        "print(\"세 과목 평균은 \", avg,\"입니다.\")"
      ],
      "metadata": {
        "colab": {
          "base_uri": "https://localhost:8080/"
        },
        "id": "AGFBmOpuZvNj",
        "outputId": "373d456b-778d-49c8-cb8d-ab061b7feab5"
      },
      "execution_count": 9,
      "outputs": [
        {
          "output_type": "stream",
          "name": "stdout",
          "text": [
            "국영수 합계는 292 입니다\n",
            "세 과목 평균은  97.33333333333333 입니다.\n"
          ]
        }
      ]
    },
    {
      "cell_type": "code",
      "source": [
        "\"\"\"\n",
        "두 수의 크기를 비교하는 프로그램\n",
        "작성일 : 2024.03.12\n",
        "작성자 : 민지현\n",
        "\"\"\"\n",
        "\n",
        "a = 12\n",
        "b = 12.01\n",
        "\n",
        "# 만약 a가 b보다 크다면\n",
        "if a > b:\n",
        "    print('a') # a를 출력\n",
        "else:\n",
        "    print('b') # b를 출력"
      ],
      "metadata": {
        "colab": {
          "base_uri": "https://localhost:8080/"
        },
        "id": "ktfEut8jaUPP",
        "outputId": "f1816b14-670e-4693-d51d-8ae035958d57"
      },
      "execution_count": 16,
      "outputs": [
        {
          "output_type": "stream",
          "name": "stdout",
          "text": [
            "b\n"
          ]
        }
      ]
    },
    {
      "cell_type": "code",
      "source": [
        "first = 15\n",
        "second = 3.14\n",
        "\n",
        "print(first)\n",
        "print(second)\n",
        "print(first * second)"
      ],
      "metadata": {
        "colab": {
          "base_uri": "https://localhost:8080/"
        },
        "id": "6uSoSKy9erKJ",
        "outputId": "f38f3af9-aa82-49e4-f0b7-e305c0045a30"
      },
      "execution_count": 18,
      "outputs": [
        {
          "output_type": "stream",
          "name": "stdout",
          "text": [
            "15\n",
            "3.14\n",
            "47.1\n"
          ]
        }
      ]
    },
    {
      "cell_type": "code",
      "source": [
        "# 식별자에 값 할당\n",
        "radius = 20\n",
        "height = 30\n",
        "\n",
        "#부피와 겉넓이를 계산해서 출력\n",
        "print(1 / 3 * 3.14 * 20 * 20 * 30 )\n",
        "print(3.14 * 20 * 20 + 3.14 * 20 * 30)"
      ],
      "metadata": {
        "colab": {
          "base_uri": "https://localhost:8080/"
        },
        "id": "aE42jB3cfAUE",
        "outputId": "1a1adbfe-4fc6-4a31-f881-5634fe493b1e"
      },
      "execution_count": 20,
      "outputs": [
        {
          "output_type": "stream",
          "name": "stdout",
          "text": [
            "12560.0\n",
            "3140.0\n"
          ]
        }
      ]
    },
    {
      "cell_type": "code",
      "source": [
        "first=15\n",
        "second=3.14\n",
        "\n",
        "print(first)\n",
        "print(second)\n",
        "print(first+second)\n",
        "print(first-second)\n",
        "print(first*second)\n",
        "print(first/second)\n",
        "print(first//second)\n",
        "5//2\n",
        "5%2\n",
        "first%second"
      ],
      "metadata": {
        "colab": {
          "base_uri": "https://localhost:8080/"
        },
        "id": "8irMehRrflIl",
        "outputId": "b0a33b51-25ac-41c6-9b8d-73945adfc99f"
      },
      "execution_count": 25,
      "outputs": [
        {
          "output_type": "stream",
          "name": "stdout",
          "text": [
            "15\n",
            "3.14\n",
            "18.14\n",
            "11.86\n",
            "47.1\n",
            "4.777070063694267\n",
            "4.0\n"
          ]
        },
        {
          "output_type": "execute_result",
          "data": {
            "text/plain": [
              "2.4399999999999995"
            ]
          },
          "metadata": {},
          "execution_count": 25
        }
      ]
    },
    {
      "cell_type": "code",
      "source": [
        "max(2, 3, 4)\n",
        "min(2, 3, 4)\n",
        "round(3.141592)\n",
        "abs(-3)"
      ],
      "metadata": {
        "colab": {
          "base_uri": "https://localhost:8080/"
        },
        "id": "ObExQnz9hvQO",
        "outputId": "94e02610-1444-4756-9ffa-9ddf9f334b1a"
      },
      "execution_count": 32,
      "outputs": [
        {
          "output_type": "execute_result",
          "data": {
            "text/plain": [
              "3"
            ]
          },
          "metadata": {},
          "execution_count": 32
        }
      ]
    },
    {
      "cell_type": "code",
      "source": [
        "#반지름 사용자 입력\n",
        "rad = int(input(\"반지름을 입력하세요:\"))\n",
        "\n",
        "#높이 사용자 입력\n",
        "hei = int(input(\"높이를 입력하세요:\"))\n",
        "\n",
        "#부피&겉넓이 계산\n",
        "vol = 1/3 * 3.14 * rad ** 2 * hei\n",
        "suf = 3.14 * rad ** 2 + 3.14 * rad * hei\n",
        "print(vol)\n",
        "print(suf)"
      ],
      "metadata": {
        "colab": {
          "base_uri": "https://localhost:8080/"
        },
        "id": "TMY9P_OzjN5e",
        "outputId": "498a8fd0-61ab-4abf-dca1-5e3c2050bd97"
      },
      "execution_count": 50,
      "outputs": [
        {
          "output_type": "stream",
          "name": "stdout",
          "text": [
            "반지름을 입력하세요:10\n",
            "높이를 입력하세요:20\n",
            "2093.333333333333\n",
            "942.0\n"
          ]
        }
      ]
    },
    {
      "cell_type": "code",
      "source": [
        "rad = input(\"반지름을 입력하세요:\") # 숫자를 넣으면 문자로 인식해서 Typeerror가 난다. int 형변환이 필요함\n",
        "hei = input(\"높이를 입력하세요:\")\n",
        "\n",
        "vol = 1/3 * 3.14 * rad ** 2 * hei\n",
        "suf = 3.14 * rad ** 2 + 3.14 * rad * hei\n",
        "\n",
        "print(vol)\n",
        "print(suf)"
      ],
      "metadata": {
        "colab": {
          "base_uri": "https://localhost:8080/",
          "height": 257
        },
        "id": "8DjA374mkOzc",
        "outputId": "a8991cdf-63c3-481e-aac9-6a00f93accfa"
      },
      "execution_count": 51,
      "outputs": [
        {
          "name": "stdout",
          "output_type": "stream",
          "text": [
            "반지름을 입력하세요:10\n",
            "높이를 입력하세요:20\n"
          ]
        },
        {
          "output_type": "error",
          "ename": "TypeError",
          "evalue": "unsupported operand type(s) for ** or pow(): 'str' and 'int'",
          "traceback": [
            "\u001b[0;31m---------------------------------------------------------------------------\u001b[0m",
            "\u001b[0;31mTypeError\u001b[0m                                 Traceback (most recent call last)",
            "\u001b[0;32m<ipython-input-51-98ea0c0e5481>\u001b[0m in \u001b[0;36m<cell line: 4>\u001b[0;34m()\u001b[0m\n\u001b[1;32m      2\u001b[0m \u001b[0mhei\u001b[0m \u001b[0;34m=\u001b[0m \u001b[0minput\u001b[0m\u001b[0;34m(\u001b[0m\u001b[0;34m\"높이를 입력하세요:\"\u001b[0m\u001b[0;34m)\u001b[0m\u001b[0;34m\u001b[0m\u001b[0;34m\u001b[0m\u001b[0m\n\u001b[1;32m      3\u001b[0m \u001b[0;34m\u001b[0m\u001b[0m\n\u001b[0;32m----> 4\u001b[0;31m \u001b[0mvol\u001b[0m \u001b[0;34m=\u001b[0m \u001b[0;36m1\u001b[0m\u001b[0;34m/\u001b[0m\u001b[0;36m3\u001b[0m \u001b[0;34m*\u001b[0m \u001b[0;36m3.14\u001b[0m \u001b[0;34m*\u001b[0m \u001b[0mrad\u001b[0m \u001b[0;34m**\u001b[0m \u001b[0;36m2\u001b[0m \u001b[0;34m*\u001b[0m \u001b[0mhei\u001b[0m\u001b[0;34m\u001b[0m\u001b[0;34m\u001b[0m\u001b[0m\n\u001b[0m\u001b[1;32m      5\u001b[0m \u001b[0msuf\u001b[0m \u001b[0;34m=\u001b[0m \u001b[0;36m3.14\u001b[0m \u001b[0;34m*\u001b[0m \u001b[0mrad\u001b[0m \u001b[0;34m**\u001b[0m \u001b[0;36m2\u001b[0m \u001b[0;34m+\u001b[0m \u001b[0;36m3.14\u001b[0m \u001b[0;34m*\u001b[0m \u001b[0mrad\u001b[0m \u001b[0;34m*\u001b[0m \u001b[0mhei\u001b[0m\u001b[0;34m\u001b[0m\u001b[0;34m\u001b[0m\u001b[0m\n\u001b[1;32m      6\u001b[0m \u001b[0;34m\u001b[0m\u001b[0m\n",
            "\u001b[0;31mTypeError\u001b[0m: unsupported operand type(s) for ** or pow(): 'str' and 'int'"
          ]
        }
      ]
    },
    {
      "cell_type": "code",
      "source": [
        "rad = 10\n",
        "suf = 30\n",
        "vol = 2500\n",
        "print(rad, suf)\n",
        "print(\"원뿔의 부피는\", 30, \"입니다.\")\n",
        "print(\"원뿔의 부피는\", vol, \"입니다.\", sep=\",\")\n",
        "print(\"원뿔의 부피는 \", vol, \"입니다.\", sep=\"  \")"
      ],
      "metadata": {
        "colab": {
          "base_uri": "https://localhost:8080/"
        },
        "id": "pMm-9-uVkaEo",
        "outputId": "633074b0-409a-453b-daf9-bb978aedec77"
      },
      "execution_count": 39,
      "outputs": [
        {
          "output_type": "stream",
          "name": "stdout",
          "text": [
            "10 30\n",
            "원뿔의 부피는 30 입니다.\n",
            "원뿔의 부피는,2500,입니다.\n",
            "원뿔의 부피는   2500  입니다.\n"
          ]
        }
      ]
    },
    {
      "cell_type": "code",
      "source": [
        "## 선택함수\n",
        "\n",
        "# 반지름 사용자 입력\n",
        "rad = int(input(\"반지름을 입력하세요:\"))\n",
        "if (rad > 0):\n",
        "    # 높이 사용자 입력\n",
        "    hei = int(input(\"높이를 입력하세요:\"))\n",
        "    # 부피&겉넓이 계산\n",
        "    vol = 1/3 * 3.14 * rad ** 2 * hei\n",
        "    suf = 3.14 * rad ** 2 + 3.14 * rad * hei\n",
        "    print(\"원뿔의 부피는\", vol, \"입니다\")\n",
        "    print(\"원뿔의 겉넓이는\", suf, \"입니다\")"
      ],
      "metadata": {
        "colab": {
          "base_uri": "https://localhost:8080/"
        },
        "id": "OEYEfaRZlzWv",
        "outputId": "f21613b7-5475-495d-dd9b-8b78c74aaece"
      },
      "execution_count": 46,
      "outputs": [
        {
          "name": "stdout",
          "output_type": "stream",
          "text": [
            "반지름을 입력하세요:-10\n"
          ]
        }
      ]
    },
    {
      "cell_type": "code",
      "source": [
        "## 자주 쓰이는 것 // 문자열 자르기\n",
        "\n",
        "msg1 = \"WelcometoKNOU\"\n",
        "\n",
        "print(msg1[0:100:1]) # index 0부터 100까지 한 글자 단위로 출력하기\n",
        "print(msg1[0:7:1])\n",
        "print(msg1[0:7:2])\n",
        "print(msg1[0:7:3])\n",
        "print(msg1[9:13:1])"
      ],
      "metadata": {
        "colab": {
          "base_uri": "https://localhost:8080/"
        },
        "id": "IzT_XlMimo5L",
        "outputId": "4b51ef94-aec9-46ac-ea4c-398a414e4ada"
      },
      "execution_count": 48,
      "outputs": [
        {
          "output_type": "stream",
          "name": "stdout",
          "text": [
            "WelcometoKNOU\n",
            "Welcome\n",
            "Wloe\n",
            "Wce\n",
            "KNOU\n"
          ]
        }
      ]
    },
    {
      "cell_type": "code",
      "source": [
        "## 자주 쓰이는 것 // 리스트\n",
        "\n",
        "str1 = [\"국어\", \"영어\", \"수학\", \"과학\"]\n",
        "print(str1)\n",
        "print(str1[0])\n",
        "print(str1[1])\n",
        "print(str1[3])"
      ],
      "metadata": {
        "colab": {
          "base_uri": "https://localhost:8080/"
        },
        "id": "ocXd6RvdnfGw",
        "outputId": "50f77951-14c4-4659-e653-51e434f22dc1"
      },
      "execution_count": 49,
      "outputs": [
        {
          "output_type": "stream",
          "name": "stdout",
          "text": [
            "['국어', '영어', '수학', '과학']\n",
            "국어\n",
            "영어\n",
            "과학\n"
          ]
        }
      ]
    }
  ]
}